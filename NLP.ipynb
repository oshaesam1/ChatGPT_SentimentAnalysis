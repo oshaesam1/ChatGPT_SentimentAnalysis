{
  "cells": [
    {
      "cell_type": "code",
      "execution_count": 2,
      "metadata": {
        "id": "QdKhv0gPSKdu",
        "colab": {
          "base_uri": "https://localhost:8080/"
        },
        "outputId": "43b09cda-21c3-42d9-eb32-27600f34b8b6"
      },
      "outputs": [
        {
          "output_type": "stream",
          "name": "stderr",
          "text": [
            "[nltk_data] Downloading package wordnet to /root/nltk_data...\n"
          ]
        }
      ],
      "source": [
        "import os\n",
        "import pandas as pd\n",
        "import sys\n",
        "import numpy as np\n",
        "from copy import deepcopy\n",
        "from keras.utils import to_categorical\n",
        "from keras.layers import Embedding\n",
        "from keras.layers import Dense, Input, GlobalMaxPooling1D\n",
        "from keras.layers import Conv1D, MaxPooling1D, Embedding, Flatten\n",
        "from keras.utils import pad_sequences\n",
        "from keras.models import Model\n",
        "from tensorflow.keras import layers\n",
        "from tensorflow.keras.models import Sequential\n",
        "import nltk\n",
        "import re\n",
        "from keras.preprocessing.text import Tokenizer\n",
        "from nltk.corpus import stopwords\n",
        "from nltk.tokenize.treebank import TreebankWordDetokenizer\n",
        "TreebankWordDetokenizer().detokenize\n",
        "tokenizer1= nltk.RegexpTokenizer(r\"\\w+\",)\n",
        "nltk.download('wordnet')\n",
        "lemmatizer = nltk.WordNetLemmatizer()\n",
        "MAX_NUM_WORDS = 20000\n",
        "MAX_SEQUENCE_LENGTH = 70\n",
        "tokenizer = Tokenizer(num_words=MAX_NUM_WORDS)\n"
      ]
    },
    {
      "cell_type": "code",
      "execution_count": 5,
      "metadata": {
        "colab": {
          "base_uri": "https://localhost:8080/"
        },
        "id": "tGirGU63V6DD",
        "outputId": "00bd0f0e-3552-483d-bf41-91788f69b3f1"
      },
      "outputs": [
        {
          "output_type": "stream",
          "name": "stdout",
          "text": [
            "Found 219294 texts.\n",
            "nLabels =  219294\n",
            "Classes are:\n",
            " \n",
            "bad 0\n",
            "neutral 1\n",
            "good 2\n"
          ]
        }
      ],
      "source": [
        "\n",
        "def tweet_clean(tweet):\n",
        "  #convert tweet to tokens\n",
        "  tweet=re.sub(r'http\\S+', '', tweet, flags=re.MULTILINE)\n",
        "  tokens = tokenizer1.tokenize(tweet)\n",
        "  lowercased_tokens = [word.lower() for word in tokens]\n",
        "  lemmatized_tokens = [lemmatizer.lemmatize(word) for word in lowercased_tokens ]\n",
        "  new_tweet=TreebankWordDetokenizer().detokenize(lemmatized_tokens)\n",
        "  return new_tweet\n",
        "  \n",
        "texts = [] # list of text samples\n",
        "labels_index = {} # dictionary mapping label name to numeric id\n",
        "labels = [] # list of label ids\n",
        "dataset=pd.read_csv('/content/drive/MyDrive/Colab Notebooks/file.csv')\n",
        "X = []\n",
        "labels_index = {\n",
        "    \"bad\":0,\n",
        "    \"neutral\":1,\n",
        "    \"good\":2,\n",
        "}\n",
        "Y= []\n",
        "for label in dataset['labels']:\n",
        "  Y.append(labels_index[label])\n",
        "for message in dataset['tweets']:\n",
        "    X.append(tweet_clean(message))\n",
        "labels_matrix = to_categorical(np.asarray(Y))\n",
        "\n",
        "print('Found %s texts.' % len(X))\n",
        "print('nLabels = ', len(Y))\n",
        "print('Classes are:\\n ')\n",
        "for key, ID in labels_index.items():\n",
        " print (key,ID)\n"
      ]
    },
    {
      "cell_type": "code",
      "execution_count": 7,
      "metadata": {
        "colab": {
          "base_uri": "https://localhost:8080/"
        },
        "id": "s9uy3vCqcXUB",
        "outputId": "458bdbdd-3b07-4360-ce03-93c7e9008e74"
      },
      "outputs": [
        {
          "output_type": "stream",
          "name": "stdout",
          "text": [
            "Found 92779 unique tokens.\n",
            "Shape of samples: (219294, 70)\n"
          ]
        }
      ],
      "source": [
        "tokenizer = Tokenizer(num_words=MAX_NUM_WORDS)\n",
        "tokenizer.fit_on_texts(X)\n",
        "sequences = tokenizer.texts_to_sequences(X)\n",
        "word_index = tokenizer.word_index  \n",
        "print('Found %s unique tokens.' % len(word_index)) \n",
        "data = pad_sequences(sequences, maxlen=MAX_SEQUENCE_LENGTH)\n",
        "print('Shape of samples:', data.shape)\n"
      ]
    },
    {
      "cell_type": "code",
      "execution_count": 8,
      "metadata": {
        "colab": {
          "base_uri": "https://localhost:8080/"
        },
        "id": "cy8APTSVk_C7",
        "outputId": "fa44374c-e25f-40b9-8a44-e2fa4f704246"
      },
      "outputs": [
        {
          "output_type": "stream",
          "name": "stdout",
          "text": [
            "training data shape:  (175436, 70)\n",
            "testing data shape:  (43858, 70)\n"
          ]
        }
      ],
      "source": [
        "SPLIT = 0.2\n",
        "indices = np.arange(data.shape[0])\n",
        "np.random.shuffle(indices)\n",
        "data_shuffled = data[indices]\n",
        "labels_shuffled = labels_matrix[indices]\n",
        "nb_validation_samples = int(SPLIT * data_shuffled.shape[0])\n",
        "x_train = data_shuffled[:-nb_validation_samples]\n",
        "y_train = labels_shuffled[:-nb_validation_samples]\n",
        "x_test = data_shuffled[-nb_validation_samples:]\n",
        "y_test = labels_shuffled[-nb_validation_samples:]\n",
        "print('training data shape: ',x_train.shape)\n",
        "print('testing data shape: ',x_test.shape)"
      ]
    },
    {
      "cell_type": "code",
      "execution_count": 9,
      "metadata": {
        "colab": {
          "base_uri": "https://localhost:8080/"
        },
        "id": "nsW73jNJkQ8e",
        "outputId": "b633f7f6-381b-4e01-d2bb-7c4ce4505227"
      },
      "outputs": [
        {
          "output_type": "stream",
          "name": "stdout",
          "text": [
            "Shape of Embedding Matrix:  (92780, 50)\n"
          ]
        }
      ],
      "source": [
        "#get all embeddings from glove\n",
        "embeddings = {}\n",
        "with open('/content/drive/MyDrive/Colab Notebooks/glove.6B.50d.txt') as f:\n",
        " for line in f:\n",
        "  values = line.split(sep=' ')\n",
        "  word = values[0]\n",
        "  coefs = np.asarray(values[1:], dtype='float32')\n",
        "  embeddings[word] = coefs\n",
        "embedding_matrix = np.zeros((len(word_index) + 1, 50))\n",
        "for word, i in word_index.items():\n",
        " embedding_vector = embeddings.get(word)\n",
        " if embedding_vector is not None:\n",
        "  embedding_matrix[i] = embedding_vector\n",
        "print ('Shape of Embedding Matrix: ',embedding_matrix.shape)\n"
      ]
    },
    {
      "cell_type": "code",
      "execution_count": 10,
      "metadata": {
        "id": "S6dGR9n7YPSz",
        "colab": {
          "base_uri": "https://localhost:8080/"
        },
        "outputId": "602aabb2-b843-4c60-ebc6-e2118e9c18e0"
      },
      "outputs": [
        {
          "output_type": "stream",
          "name": "stdout",
          "text": [
            "Epoch 1/3\n",
            "1371/1371 [==============================] - 75s 46ms/step - loss: 0.9704 - acc: 0.5391 - val_loss: 0.8550 - val_acc: 0.6148\n",
            "Epoch 2/3\n",
            "1371/1371 [==============================] - 14s 11ms/step - loss: 0.8114 - acc: 0.6295 - val_loss: 0.6283 - val_acc: 0.7320\n",
            "Epoch 3/3\n",
            "1371/1371 [==============================] - 15s 11ms/step - loss: 0.6757 - acc: 0.7057 - val_loss: 0.5267 - val_acc: 0.7981\n",
            "1371/1371 [==============================] - 4s 3ms/step - loss: 0.5267 - acc: 0.7981\n",
            "Model: \"sequential_1\"\n",
            "_________________________________________________________________\n",
            " Layer (type)                Output Shape              Param #   \n",
            "=================================================================\n",
            " embedding (Embedding)       (None, 70, 50)            4639000   \n",
            "                                                                 \n",
            " dropout (Dropout)           (None, 70, 50)            0         \n",
            "                                                                 \n",
            " conv1d (Conv1D)             (None, 68, 16)            2416      \n",
            "                                                                 \n",
            " max_pooling1d (MaxPooling1D  (None, 34, 16)           0         \n",
            " )                                                               \n",
            "                                                                 \n",
            " conv1d_1 (Conv1D)           (None, 32, 16)            784       \n",
            "                                                                 \n",
            " max_pooling1d_1 (MaxPooling  (None, 16, 16)           0         \n",
            " 1D)                                                             \n",
            "                                                                 \n",
            " flatten (Flatten)           (None, 256)               0         \n",
            "                                                                 \n",
            " dense (Dense)               (None, 128)               32896     \n",
            "                                                                 \n",
            " dropout_1 (Dropout)         (None, 128)               0         \n",
            "                                                                 \n",
            " dense_1 (Dense)             (None, 3)                 387       \n",
            "                                                                 \n",
            "=================================================================\n",
            "Total params: 4,675,483\n",
            "Trainable params: 4,675,483\n",
            "Non-trainable params: 0\n",
            "_________________________________________________________________\n",
            "1371/1371 [==============================] - 2s 2ms/step\n",
            "              precision    recall  f1-score   support\n",
            "\n",
            "           0       0.88      0.88      0.88     21684\n",
            "           1       0.65      0.60      0.63     10950\n",
            "           2       0.78      0.83      0.80     11224\n",
            "\n",
            "    accuracy                           0.80     43858\n",
            "   macro avg       0.77      0.77      0.77     43858\n",
            "weighted avg       0.80      0.80      0.80     43858\n",
            "\n"
          ]
        }
      ],
      "source": [
        "#CNN model first trial\n",
        "\n",
        "from tensorflow.keras.optimizers import Adam\n",
        "from sklearn.metrics import classification_report\n",
        "history_cnn=np.zeros(4)\n",
        "\n",
        "model1_cnn = Sequential([])\n",
        "model1_cnn.add(Embedding(len(word_index) + 1,\n",
        " 50, \n",
        " weights=[embedding_matrix], \n",
        " input_length=MAX_SEQUENCE_LENGTH,) )\n",
        "model1_cnn.add(layers.Dropout(0.5))\n",
        "model1_cnn.add(Conv1D(16,3, activation='relu'))\n",
        "model1_cnn.add(MaxPooling1D())\n",
        "model1_cnn.add(Conv1D(16,3, activation='relu'))\n",
        "model1_cnn.add(MaxPooling1D())\n",
        "model1_cnn.add(layers.Flatten())\n",
        "model1_cnn.add(layers.Dense(128, activation='relu'))\n",
        "model1_cnn.add(layers.Dropout(0.5))\n",
        "model1_cnn.add(layers.Dense(3, activation='softmax'))\n",
        "\n",
        "model1_cnn.compile(loss='categorical_crossentropy',\n",
        " optimizer=Adam(learning_rate=0.0003),\n",
        " metrics=['acc'])\n",
        "model1_cnn.fit(x_train, y_train, validation_data=(x_test, y_test),\n",
        " epochs=3, batch_size=128)\n",
        "\n",
        "history_cnn[0]=model1_cnn.evaluate(x_test,y_test)[1]\n",
        "model1_cnn.summary()\n",
        "Y_predict= model1_cnn.predict(x_test)\n",
        "Y_predict = [np.argmax(element) for element in Y_predict]\n",
        "Y_test = [np.argmax(element) for element in y_test]\n",
        "print(classification_report(Y_test, Y_predict))  "
      ]
    },
    {
      "cell_type": "code",
      "source": [
        "#CNN model second trial\n",
        "\n",
        "model2_cnn = Sequential([])\n",
        "model2_cnn.add(Embedding(len(word_index) + 1,\n",
        " 50, \n",
        " weights=[embedding_matrix], \n",
        " input_length=MAX_SEQUENCE_LENGTH,) )\n",
        "model2_cnn.add(layers.Dropout(0.5))\n",
        "model2_cnn.add(Conv1D(16,3, activation='relu'))\n",
        "model2_cnn.add(MaxPooling1D())\n",
        "model2_cnn.add(Conv1D(16,3, activation='relu'))\n",
        "model2_cnn.add(MaxPooling1D())\n",
        "model2_cnn.add(layers.Flatten())\n",
        "model2_cnn.add(layers.Dense(128, activation='relu'))\n",
        "model2_cnn.add(layers.Dropout(0.5))\n",
        "model2_cnn.add(layers.Dense(3, activation='softmax'))\n",
        "\n",
        "model2_cnn.compile(loss='categorical_crossentropy',\n",
        " optimizer=Adam(learning_rate=0.001),\n",
        " metrics=['acc'])\n",
        "\n",
        "model2_cnn.fit(x_train, y_train, validation_data=(x_test, y_test),\n",
        " epochs=3, batch_size=256)\n",
        "\n",
        "history_cnn[1]=model2_cnn.evaluate(x_test,y_test)[1]\n",
        "\n",
        "model2_cnn.summary()\n",
        "Y_predict= model2_cnn.predict(x_test)\n",
        "Y_predict = [np.argmax(element) for element in Y_predict]\n",
        "Y_test = [np.argmax(element) for element in y_test]\n",
        "print(classification_report(Y_test, Y_predict))  \n",
        "         \n",
        "          \n"
      ],
      "metadata": {
        "colab": {
          "base_uri": "https://localhost:8080/"
        },
        "id": "vTlzA3GwIvZo",
        "outputId": "9816cf97-1338-4a79-c29a-ad4cb6a27b34"
      },
      "execution_count": 11,
      "outputs": [
        {
          "output_type": "stream",
          "name": "stdout",
          "text": [
            "Epoch 1/3\n",
            "686/686 [==============================] - 67s 90ms/step - loss: 0.8660 - acc: 0.5966 - val_loss: 0.5801 - val_acc: 0.7599\n",
            "Epoch 2/3\n",
            "686/686 [==============================] - 13s 19ms/step - loss: 0.5984 - acc: 0.7481 - val_loss: 0.4301 - val_acc: 0.8411\n",
            "Epoch 3/3\n",
            "686/686 [==============================] - 10s 14ms/step - loss: 0.4743 - acc: 0.8118 - val_loss: 0.3496 - val_acc: 0.8774\n",
            "1371/1371 [==============================] - 5s 3ms/step - loss: 0.3496 - acc: 0.8774\n",
            "Model: \"sequential_2\"\n",
            "_________________________________________________________________\n",
            " Layer (type)                Output Shape              Param #   \n",
            "=================================================================\n",
            " embedding_1 (Embedding)     (None, 70, 50)            4639000   \n",
            "                                                                 \n",
            " dropout_2 (Dropout)         (None, 70, 50)            0         \n",
            "                                                                 \n",
            " conv1d_2 (Conv1D)           (None, 68, 16)            2416      \n",
            "                                                                 \n",
            " max_pooling1d_2 (MaxPooling  (None, 34, 16)           0         \n",
            " 1D)                                                             \n",
            "                                                                 \n",
            " conv1d_3 (Conv1D)           (None, 32, 16)            784       \n",
            "                                                                 \n",
            " max_pooling1d_3 (MaxPooling  (None, 16, 16)           0         \n",
            " 1D)                                                             \n",
            "                                                                 \n",
            " flatten_1 (Flatten)         (None, 256)               0         \n",
            "                                                                 \n",
            " dense_2 (Dense)             (None, 128)               32896     \n",
            "                                                                 \n",
            " dropout_3 (Dropout)         (None, 128)               0         \n",
            "                                                                 \n",
            " dense_3 (Dense)             (None, 3)                 387       \n",
            "                                                                 \n",
            "=================================================================\n",
            "Total params: 4,675,483\n",
            "Trainable params: 4,675,483\n",
            "Non-trainable params: 0\n",
            "_________________________________________________________________\n",
            "1371/1371 [==============================] - 3s 2ms/step\n",
            "              precision    recall  f1-score   support\n",
            "\n",
            "           0       0.96      0.91      0.93     21684\n",
            "           1       0.77      0.77      0.77     10950\n",
            "           2       0.83      0.92      0.87     11224\n",
            "\n",
            "    accuracy                           0.88     43858\n",
            "   macro avg       0.86      0.87      0.86     43858\n",
            "weighted avg       0.88      0.88      0.88     43858\n",
            "\n"
          ]
        }
      ]
    },
    {
      "cell_type": "code",
      "source": [
        "#CNN model third trial\n",
        "\n",
        "from tensorflow.keras.optimizers import Adam\n",
        "from sklearn.metrics import classification_report\n",
        "\n",
        "model3_cnn = Sequential([])\n",
        "model3_cnn.add(Embedding(len(word_index) + 1,\n",
        " 50, \n",
        " weights=[embedding_matrix], \n",
        " input_length=MAX_SEQUENCE_LENGTH,) )\n",
        "model3_cnn.add(layers.Dropout(0.5))\n",
        "model3_cnn.add(Conv1D(16,3, activation='relu'))\n",
        "model3_cnn.add(MaxPooling1D())\n",
        "model3_cnn.add(layers.Flatten())\n",
        "model3_cnn.add(layers.Dense(128, activation='relu'))\n",
        "model3_cnn.add(layers.Dropout(0.5))\n",
        "model3_cnn.add(layers.Dense(3, activation='softmax'))\n",
        "\n",
        "model3_cnn.compile(loss='categorical_crossentropy',\n",
        " optimizer=Adam(learning_rate=0.01),\n",
        " metrics=['acc'])\n",
        "model3_cnn.fit(x_train, y_train, validation_data=(x_test, y_test),\n",
        " epochs=3, batch_size=128)\n",
        "\n",
        "history_cnn[2]=model3_cnn.evaluate(x_test,y_test)[1]\n",
        "model3_cnn.summary()\n",
        "Y_predict= model3_cnn.predict(x_test)\n",
        "Y_predict = [np.argmax(element) for element in Y_predict]\n",
        "Y_test = [np.argmax(element) for element in y_test]\n",
        "print(classification_report(Y_test, Y_predict))  "
      ],
      "metadata": {
        "colab": {
          "base_uri": "https://localhost:8080/"
        },
        "id": "yWsHLuT1hwrR",
        "outputId": "7ce665a1-6202-4148-91a0-244922080f98"
      },
      "execution_count": 12,
      "outputs": [
        {
          "output_type": "stream",
          "name": "stdout",
          "text": [
            "Epoch 1/3\n",
            "1371/1371 [==============================] - 51s 35ms/step - loss: 0.5747 - acc: 0.7612 - val_loss: 0.3261 - val_acc: 0.8901\n",
            "Epoch 2/3\n",
            "1371/1371 [==============================] - 13s 10ms/step - loss: 0.3785 - acc: 0.8635 - val_loss: 0.3062 - val_acc: 0.8920\n",
            "Epoch 3/3\n",
            "1371/1371 [==============================] - 12s 9ms/step - loss: 0.3480 - acc: 0.8775 - val_loss: 0.2914 - val_acc: 0.9037\n",
            "1371/1371 [==============================] - 4s 3ms/step - loss: 0.2914 - acc: 0.9037\n",
            "Model: \"sequential_3\"\n",
            "_________________________________________________________________\n",
            " Layer (type)                Output Shape              Param #   \n",
            "=================================================================\n",
            " embedding_2 (Embedding)     (None, 70, 50)            4639000   \n",
            "                                                                 \n",
            " dropout_4 (Dropout)         (None, 70, 50)            0         \n",
            "                                                                 \n",
            " conv1d_4 (Conv1D)           (None, 68, 16)            2416      \n",
            "                                                                 \n",
            " max_pooling1d_4 (MaxPooling  (None, 34, 16)           0         \n",
            " 1D)                                                             \n",
            "                                                                 \n",
            " flatten_2 (Flatten)         (None, 544)               0         \n",
            "                                                                 \n",
            " dense_4 (Dense)             (None, 128)               69760     \n",
            "                                                                 \n",
            " dropout_5 (Dropout)         (None, 128)               0         \n",
            "                                                                 \n",
            " dense_5 (Dense)             (None, 3)                 387       \n",
            "                                                                 \n",
            "=================================================================\n",
            "Total params: 4,711,563\n",
            "Trainable params: 4,711,563\n",
            "Non-trainable params: 0\n",
            "_________________________________________________________________\n",
            "1371/1371 [==============================] - 3s 2ms/step\n",
            "              precision    recall  f1-score   support\n",
            "\n",
            "           0       0.97      0.92      0.95     21684\n",
            "           1       0.79      0.86      0.83     10950\n",
            "           2       0.90      0.91      0.90     11224\n",
            "\n",
            "    accuracy                           0.90     43858\n",
            "   macro avg       0.89      0.90      0.89     43858\n",
            "weighted avg       0.91      0.90      0.91     43858\n",
            "\n"
          ]
        }
      ]
    },
    {
      "cell_type": "code",
      "source": [
        "#CNN model fourth trial\n",
        "\n",
        "\n",
        "model4_cnn = Sequential([])\n",
        "model4_cnn.add(Embedding(len(word_index) + 1,\n",
        " 50, \n",
        " weights=[embedding_matrix], \n",
        " input_length=MAX_SEQUENCE_LENGTH,) )\n",
        "model4_cnn.add(layers.Dropout(0.5))\n",
        "model4_cnn.add(Conv1D(16,3, activation='relu'))\n",
        "model4_cnn.add(MaxPooling1D())\n",
        "model4_cnn.add(layers.Flatten())\n",
        "model4_cnn.add(layers.Dense(128, activation='relu'))\n",
        "model4_cnn.add(layers.Dropout(0.5))\n",
        "model4_cnn.add(layers.Dense(3, activation='softmax'))\n",
        "\n",
        "model4_cnn.compile(loss='categorical_crossentropy',\n",
        " optimizer=Adam(learning_rate=0.0003),\n",
        " metrics=['acc'])\n",
        "model4_cnn.fit(x_train, y_train, validation_data=(x_test, y_test),\n",
        " epochs=4, batch_size=128)\n",
        "\n",
        "history_cnn[3]=model4_cnn.evaluate(x_test,y_test)[1]\n",
        "model1_cnn.summary()\n",
        "Y_predict= model4_cnn.predict(x_test)\n",
        "Y_predict = [np.argmax(element) for element in Y_predict]\n",
        "Y_test = [np.argmax(element) for element in y_test]\n",
        "print(classification_report(Y_test, Y_predict))  "
      ],
      "metadata": {
        "colab": {
          "base_uri": "https://localhost:8080/"
        },
        "id": "kl3PQu2Yhw52",
        "outputId": "7add268f-29f1-49f2-c020-f385b046879c"
      },
      "execution_count": 27,
      "outputs": [
        {
          "output_type": "stream",
          "name": "stdout",
          "text": [
            "Epoch 1/4\n",
            "1371/1371 [==============================] - 48s 34ms/step - loss: 0.9611 - acc: 0.5437 - val_loss: 0.8183 - val_acc: 0.6254\n",
            "Epoch 2/4\n",
            "1371/1371 [==============================] - 13s 10ms/step - loss: 0.7858 - acc: 0.6406 - val_loss: 0.6102 - val_acc: 0.7404\n",
            "Epoch 3/4\n",
            "1371/1371 [==============================] - 11s 8ms/step - loss: 0.6616 - acc: 0.7117 - val_loss: 0.5103 - val_acc: 0.8006\n",
            "Epoch 4/4\n",
            "1371/1371 [==============================] - 11s 8ms/step - loss: 0.5827 - acc: 0.7560 - val_loss: 0.4559 - val_acc: 0.8279\n",
            "1371/1371 [==============================] - 4s 3ms/step - loss: 0.4559 - acc: 0.8279\n",
            "Model: \"sequential_1\"\n",
            "_________________________________________________________________\n",
            " Layer (type)                Output Shape              Param #   \n",
            "=================================================================\n",
            " embedding (Embedding)       (None, 70, 50)            4639000   \n",
            "                                                                 \n",
            " dropout (Dropout)           (None, 70, 50)            0         \n",
            "                                                                 \n",
            " conv1d (Conv1D)             (None, 68, 16)            2416      \n",
            "                                                                 \n",
            " max_pooling1d (MaxPooling1D  (None, 34, 16)           0         \n",
            " )                                                               \n",
            "                                                                 \n",
            " conv1d_1 (Conv1D)           (None, 32, 16)            784       \n",
            "                                                                 \n",
            " max_pooling1d_1 (MaxPooling  (None, 16, 16)           0         \n",
            " 1D)                                                             \n",
            "                                                                 \n",
            " flatten (Flatten)           (None, 256)               0         \n",
            "                                                                 \n",
            " dense (Dense)               (None, 128)               32896     \n",
            "                                                                 \n",
            " dropout_1 (Dropout)         (None, 128)               0         \n",
            "                                                                 \n",
            " dense_1 (Dense)             (None, 3)                 387       \n",
            "                                                                 \n",
            "=================================================================\n",
            "Total params: 4,675,483\n",
            "Trainable params: 4,675,483\n",
            "Non-trainable params: 0\n",
            "_________________________________________________________________\n",
            "1371/1371 [==============================] - 3s 2ms/step\n",
            "              precision    recall  f1-score   support\n",
            "\n",
            "           0       0.93      0.88      0.90     21684\n",
            "           1       0.70      0.66      0.68     10950\n",
            "           2       0.77      0.90      0.83     11224\n",
            "\n",
            "    accuracy                           0.83     43858\n",
            "   macro avg       0.80      0.81      0.80     43858\n",
            "weighted avg       0.83      0.83      0.83     43858\n",
            "\n"
          ]
        }
      ]
    },
    {
      "cell_type": "code",
      "source": [
        "#Graph for Trials using differnt hyper parameters\n",
        "\n",
        "import matplotlib.pyplot as plt\n",
        "fig = plt.figure()\n",
        "\n",
        "cnn = []\n",
        "cnn.append('Epochs=3,Batch size=128,learning_rate=0.0003')\n",
        "cnn.append('Epochs=6,Batch size=256,learning_rate=0.001')\n",
        "cnn.append('Epochs=3,Batch size=128,learning_rate=0.01')\n",
        "cnn.append('Epochs=4,Batch size=128,learning_rate=0.0003')\n",
        "\n",
        "\n",
        "plt.xticks(rotation = 45)\n",
        "\n",
        "plt.title(\"Accuracy using different hyper paramters\")\n",
        "plt.xlabel(\"Trials using differnt hyper parameters\")\n",
        "plt.ylabel(\"accuracy\")\n",
        "plt.plot(cnn,history_cnn,label=\"CNN model\",marker='o',ms=5)\n",
        "\n"
      ],
      "metadata": {
        "colab": {
          "base_uri": "https://localhost:8080/",
          "height": 725
        },
        "id": "O-yYKcxTpi1f",
        "outputId": "41e12356-d8f5-4950-8180-2b485e3f76b9"
      },
      "execution_count": 14,
      "outputs": [
        {
          "output_type": "execute_result",
          "data": {
            "text/plain": [
              "[<matplotlib.lines.Line2D at 0x7f1fda4b15a0>]"
            ]
          },
          "metadata": {},
          "execution_count": 14
        },
        {
          "output_type": "display_data",
          "data": {
            "text/plain": [
              "<Figure size 640x480 with 1 Axes>"
            ],
            "image/png": "[encoded data removed]"
          },
          "metadata": {}
        }
      ]
    },
    {
      "cell_type": "code",
      "source": [
        "from sklearn.metrics import classification_report\n",
        "\n",
        "#LSTM model first trial\n",
        "history_lstm=np.zeros(4)\n",
        "\n",
        "model1_lstm = Sequential([])\n",
        "model1_lstm.add(Embedding(len(word_index) + 1,\n",
        " 50, \n",
        " weights=[embedding_matrix], \n",
        " input_length=MAX_SEQUENCE_LENGTH,) )\n",
        "model1_lstm.add(layers.LSTM(64, return_sequences=True))\n",
        "model1_lstm.add(layers.Dropout(0.2))\n",
        "model1_lstm.add(layers.Flatten())\n",
        "model1_lstm.add(layers.Dense(128, activation='relu'))\n",
        "model1_lstm.add(layers.Dropout(0.5))\n",
        "model1_lstm.add(layers.Dense(3, activation='softmax'))\n",
        "\n",
        "model1_lstm.compile(loss='categorical_crossentropy',\n",
        " optimizer='rmsprop',\n",
        " metrics=['acc'])\n",
        "\n",
        "\n",
        "model1_lstm.fit(x_train, y_train, validation_data=(x_test, y_test),epochs=3, batch_size=64)\n",
        "\n",
        "print('Acuracy on testing set:')\n",
        "history_lstm[0]=model1_lstm.evaluate(x_test,y_test)[1]\n",
        "\n",
        "model1_lstm.summary()\n",
        "Y_predict2= model1_lstm.predict(x_test)\n",
        "Y_predict2 = [np.argmax(element) for element in Y_predict2]\n",
        "Y_test2 = [np.argmax(element) for element in y_test]\n",
        "print(classification_report(Y_test2, Y_predict2)) "
      ],
      "metadata": {
        "colab": {
          "base_uri": "https://localhost:8080/"
        },
        "id": "ZLfuzT-vCAFO",
        "outputId": "d2586635-8423-4274-e0f0-b0042f55e5c6"
      },
      "execution_count": 16,
      "outputs": [
        {
          "output_type": "stream",
          "name": "stdout",
          "text": [
            "Epoch 1/3\n",
            "2742/2742 [==============================] - 65s 22ms/step - loss: 0.5679 - acc: 0.7659 - val_loss: 0.5129 - val_acc: 0.8032\n",
            "Epoch 2/3\n",
            "2742/2742 [==============================] - 24s 9ms/step - loss: 0.3444 - acc: 0.8749 - val_loss: 0.3102 - val_acc: 0.8896\n",
            "Epoch 3/3\n",
            "2742/2742 [==============================] - 23s 8ms/step - loss: 0.2846 - acc: 0.8995 - val_loss: 0.2933 - val_acc: 0.8949\n",
            "Acuracy on testing set:\n",
            "1371/1371 [==============================] - 6s 4ms/step - loss: 0.2933 - acc: 0.8949\n",
            "Model: \"sequential_5\"\n",
            "_________________________________________________________________\n",
            " Layer (type)                Output Shape              Param #   \n",
            "=================================================================\n",
            " embedding_4 (Embedding)     (None, 70, 50)            4639000   \n",
            "                                                                 \n",
            " lstm (LSTM)                 (None, 70, 64)            29440     \n",
            "                                                                 \n",
            " dropout_8 (Dropout)         (None, 70, 64)            0         \n",
            "                                                                 \n",
            " flatten_4 (Flatten)         (None, 4480)              0         \n",
            "                                                                 \n",
            " dense_8 (Dense)             (None, 128)               573568    \n",
            "                                                                 \n",
            " dropout_9 (Dropout)         (None, 128)               0         \n",
            "                                                                 \n",
            " dense_9 (Dense)             (None, 3)                 387       \n",
            "                                                                 \n",
            "=================================================================\n",
            "Total params: 5,242,395\n",
            "Trainable params: 5,242,395\n",
            "Non-trainable params: 0\n",
            "_________________________________________________________________\n",
            "1371/1371 [==============================] - 4s 3ms/step\n",
            "              precision    recall  f1-score   support\n",
            "\n",
            "           0       0.97      0.92      0.94     21684\n",
            "           1       0.82      0.78      0.80     10950\n",
            "           2       0.84      0.95      0.89     11224\n",
            "\n",
            "    accuracy                           0.89     43858\n",
            "   macro avg       0.88      0.89      0.88     43858\n",
            "weighted avg       0.90      0.89      0.90     43858\n",
            "\n"
          ]
        }
      ]
    },
    {
      "cell_type": "code",
      "source": [
        " #LSTM model second trial\n",
        "from tensorflow.keras.optimizers import Adam\n",
        "from sklearn.metrics import classification_report\n",
        "\n",
        "model2_lstm = Sequential([])\n",
        "model2_lstm.add(Embedding(len(word_index) + 1,\n",
        " 50, \n",
        " weights=[embedding_matrix], \n",
        " input_length=MAX_SEQUENCE_LENGTH,) )\n",
        "model2_lstm.add(layers.LSTM(32, return_sequences=True))\n",
        "model2_lstm.add(layers.Flatten())\n",
        "\n",
        "model2_lstm.add(layers.Dense(3, activation='softmax'))\n",
        "\n",
        "\n",
        "model2_lstm.compile(loss='categorical_crossentropy',\n",
        " optimizer=Adam(learning_rate=0.001),\n",
        " metrics=['acc'])\n",
        "\n",
        "\n",
        "model2_lstm.fit(x_train, y_train, validation_data=(x_test, y_test),epochs=3, batch_size=248)\n",
        "\n",
        "print('Acuracy on testing set:')\n",
        "history_lstm[1]=model2_lstm.evaluate(x_test,y_test)[1]\n",
        "\n",
        "\n",
        "model2_lstm.summary()\n",
        "Y_predict2= model2_lstm.predict(x_test)\n",
        "Y_predict2 = [np.argmax(element) for element in Y_predict2]\n",
        "Y_test2 = [np.argmax(element) for element in y_test]\n",
        "print(classification_report(Y_test2, Y_predict2))  \n"
      ],
      "metadata": {
        "colab": {
          "base_uri": "https://localhost:8080/"
        },
        "id": "GKSuRUT12G3p",
        "outputId": "8df71f28-2919-449a-cd5a-577596da1e66"
      },
      "execution_count": 17,
      "outputs": [
        {
          "output_type": "stream",
          "name": "stdout",
          "text": [
            "Epoch 1/3\n",
            "708/708 [==============================] - 50s 65ms/step - loss: 0.5918 - acc: 0.7525 - val_loss: 0.3726 - val_acc: 0.8670\n",
            "Epoch 2/3\n",
            "708/708 [==============================] - 12s 17ms/step - loss: 0.2994 - acc: 0.8971 - val_loss: 0.2853 - val_acc: 0.9017\n",
            "Epoch 3/3\n",
            "708/708 [==============================] - 10s 14ms/step - loss: 0.2328 - acc: 0.9233 - val_loss: 0.2639 - val_acc: 0.9108\n",
            "Acuracy on testing set:\n",
            "1371/1371 [==============================] - 5s 4ms/step - loss: 0.2639 - acc: 0.9108\n",
            "Model: \"sequential_6\"\n",
            "_________________________________________________________________\n",
            " Layer (type)                Output Shape              Param #   \n",
            "=================================================================\n",
            " embedding_5 (Embedding)     (None, 70, 50)            4639000   \n",
            "                                                                 \n",
            " lstm_1 (LSTM)               (None, 70, 32)            10624     \n",
            "                                                                 \n",
            " flatten_5 (Flatten)         (None, 2240)              0         \n",
            "                                                                 \n",
            " dense_10 (Dense)            (None, 3)                 6723      \n",
            "                                                                 \n",
            "=================================================================\n",
            "Total params: 4,656,347\n",
            "Trainable params: 4,656,347\n",
            "Non-trainable params: 0\n",
            "_________________________________________________________________\n",
            "1371/1371 [==============================] - 5s 3ms/step\n",
            "              precision    recall  f1-score   support\n",
            "\n",
            "           0       0.95      0.95      0.95     21684\n",
            "           1       0.85      0.81      0.83     10950\n",
            "           2       0.90      0.93      0.91     11224\n",
            "\n",
            "    accuracy                           0.91     43858\n",
            "   macro avg       0.90      0.90      0.90     43858\n",
            "weighted avg       0.91      0.91      0.91     43858\n",
            "\n"
          ]
        }
      ]
    },
    {
      "cell_type": "code",
      "source": [
        " #LSTM model third trial\n",
        "\n",
        "model3_lstm = Sequential([])\n",
        "model3_lstm.add(Embedding(len(word_index) + 1,\n",
        " 50, \n",
        " weights=[embedding_matrix], \n",
        " input_length=MAX_SEQUENCE_LENGTH,) )\n",
        "model3_lstm.add(layers.LSTM(64, return_sequences=True))\n",
        "model3_lstm.add(layers.Dropout(0.2))\n",
        "model3_lstm.add(layers.Flatten())\n",
        "model3_lstm.add(layers.Dense(128, activation='relu'))\n",
        "model3_lstm.add(layers.Dropout(0.5))\n",
        "model3_lstm.add(layers.Dense(3, activation='softmax'))\n",
        "\n",
        "\n",
        "model3_lstm.compile(loss='categorical_crossentropy',\n",
        " optimizer=Adam(learning_rate=0.01),\n",
        " metrics=['acc'])\n",
        "\n",
        "\n",
        "model3_lstm.fit(x_train, y_train, validation_data=(x_test, y_test),epochs=4, batch_size=128)\n",
        "\n",
        "print('Acuracy on testing set:')\n",
        "history_lstm[2]=model3_lstm.evaluate(x_test,y_test)[1]\n",
        "\n",
        "\n",
        "model3_lstm.summary()\n",
        "Y_predict2= model3_lstm.predict(x_test)\n",
        "Y_predict2 = [np.argmax(element) for element in Y_predict2]\n",
        "Y_test2 = [np.argmax(element) for element in y_test]\n",
        "print(classification_report(Y_test2, Y_predict2))  "
      ],
      "metadata": {
        "colab": {
          "base_uri": "https://localhost:8080/"
        },
        "id": "9EB6_33Ft6k4",
        "outputId": "5439aa83-75af-4eb1-b83c-bda93ade4da5"
      },
      "execution_count": 18,
      "outputs": [
        {
          "output_type": "stream",
          "name": "stdout",
          "text": [
            "Epoch 1/4\n",
            "1371/1371 [==============================] - 57s 38ms/step - loss: 0.3917 - acc: 0.8510 - val_loss: 0.2499 - val_acc: 0.9090\n",
            "Epoch 2/4\n",
            "1371/1371 [==============================] - 18s 13ms/step - loss: 0.2599 - acc: 0.9060 - val_loss: 0.2498 - val_acc: 0.9110\n",
            "Epoch 3/4\n",
            "1371/1371 [==============================] - 15s 11ms/step - loss: 0.2273 - acc: 0.9176 - val_loss: 0.2441 - val_acc: 0.9108\n",
            "Epoch 4/4\n",
            "1371/1371 [==============================] - 13s 10ms/step - loss: 0.2078 - acc: 0.9249 - val_loss: 0.2604 - val_acc: 0.9068\n",
            "Acuracy on testing set:\n",
            "1371/1371 [==============================] - 7s 5ms/step - loss: 0.2604 - acc: 0.9068\n",
            "Model: \"sequential_7\"\n",
            "_________________________________________________________________\n",
            " Layer (type)                Output Shape              Param #   \n",
            "=================================================================\n",
            " embedding_6 (Embedding)     (None, 70, 50)            4639000   \n",
            "                                                                 \n",
            " lstm_2 (LSTM)               (None, 70, 64)            29440     \n",
            "                                                                 \n",
            " dropout_10 (Dropout)        (None, 70, 64)            0         \n",
            "                                                                 \n",
            " flatten_6 (Flatten)         (None, 4480)              0         \n",
            "                                                                 \n",
            " dense_11 (Dense)            (None, 128)               573568    \n",
            "                                                                 \n",
            " dropout_11 (Dropout)        (None, 128)               0         \n",
            "                                                                 \n",
            " dense_12 (Dense)            (None, 3)                 387       \n",
            "                                                                 \n",
            "=================================================================\n",
            "Total params: 5,242,395\n",
            "Trainable params: 5,242,395\n",
            "Non-trainable params: 0\n",
            "_________________________________________________________________\n",
            "1371/1371 [==============================] - 4s 3ms/step\n",
            "              precision    recall  f1-score   support\n",
            "\n",
            "           0       0.98      0.92      0.95     21684\n",
            "           1       0.78      0.89      0.83     10950\n",
            "           2       0.92      0.90      0.91     11224\n",
            "\n",
            "    accuracy                           0.91     43858\n",
            "   macro avg       0.89      0.90      0.90     43858\n",
            "weighted avg       0.91      0.91      0.91     43858\n",
            "\n"
          ]
        }
      ]
    },
    {
      "cell_type": "code",
      "source": [
        " #LSTM model fourth trial\n",
        "\n",
        "model4_lstm = Sequential([])\n",
        "model4_lstm.add(Embedding(len(word_index) + 1,\n",
        " 50, \n",
        " weights=[embedding_matrix], \n",
        " input_length=MAX_SEQUENCE_LENGTH,) )\n",
        "model4_lstm.add(layers.LSTM(64, return_sequences=True))\n",
        "model4_lstm.add(layers.Flatten())\n",
        "model4_lstm.add(layers.Dropout(0.5))\n",
        "model4_lstm.add(layers.Dense(3, activation='softmax'))\n",
        "\n",
        "\n",
        "model4_lstm.compile(loss='categorical_crossentropy',\n",
        " optimizer=Adam(learning_rate=0.003),\n",
        " metrics=['acc'])\n",
        "\n",
        "\n",
        "model4_lstm.fit(x_train, y_train, validation_data=(x_test, y_test),epochs=3, batch_size=128)\n",
        "\n",
        "print('Acuracy on testing set:')\n",
        "history_lstm[3]=model4_lstm.evaluate(x_test,y_test)[1]\n",
        "\n",
        "\n",
        "model4_lstm.summary()\n",
        "Y_predict2= model4_lstm.predict(x_test)\n",
        "Y_predict2 = [np.argmax(element) for element in Y_predict2]\n",
        "Y_test2 = [np.argmax(element) for element in y_test]\n",
        "print(classification_report(Y_test2, Y_predict2)) "
      ],
      "metadata": {
        "colab": {
          "base_uri": "https://localhost:8080/"
        },
        "id": "AXCiZWsm2HFC",
        "outputId": "595013bf-d517-4d67-a2e5-0529611eac10"
      },
      "execution_count": 19,
      "outputs": [
        {
          "output_type": "stream",
          "name": "stdout",
          "text": [
            "Epoch 1/3\n",
            "1371/1371 [==============================] - 59s 40ms/step - loss: 0.4115 - acc: 0.8414 - val_loss: 0.2591 - val_acc: 0.9094\n",
            "Epoch 2/3\n",
            "1371/1371 [==============================] - 16s 12ms/step - loss: 0.2271 - acc: 0.9193 - val_loss: 0.2172 - val_acc: 0.9234\n",
            "Epoch 3/3\n",
            "1371/1371 [==============================] - 15s 11ms/step - loss: 0.1831 - acc: 0.9351 - val_loss: 0.2150 - val_acc: 0.9223\n",
            "Acuracy on testing set:\n",
            "1371/1371 [==============================] - 6s 4ms/step - loss: 0.2150 - acc: 0.9223\n",
            "Model: \"sequential_8\"\n",
            "_________________________________________________________________\n",
            " Layer (type)                Output Shape              Param #   \n",
            "=================================================================\n",
            " embedding_7 (Embedding)     (None, 70, 50)            4639000   \n",
            "                                                                 \n",
            " lstm_3 (LSTM)               (None, 70, 64)            29440     \n",
            "                                                                 \n",
            " flatten_7 (Flatten)         (None, 4480)              0         \n",
            "                                                                 \n",
            " dropout_12 (Dropout)        (None, 4480)              0         \n",
            "                                                                 \n",
            " dense_13 (Dense)            (None, 3)                 13443     \n",
            "                                                                 \n",
            "=================================================================\n",
            "Total params: 4,681,883\n",
            "Trainable params: 4,681,883\n",
            "Non-trainable params: 0\n",
            "_________________________________________________________________\n",
            "1371/1371 [==============================] - 5s 3ms/step\n",
            "              precision    recall  f1-score   support\n",
            "\n",
            "           0       0.97      0.95      0.96     21684\n",
            "           1       0.85      0.87      0.86     10950\n",
            "           2       0.91      0.93      0.92     11224\n",
            "\n",
            "    accuracy                           0.92     43858\n",
            "   macro avg       0.91      0.91      0.91     43858\n",
            "weighted avg       0.92      0.92      0.92     43858\n",
            "\n"
          ]
        }
      ]
    },
    {
      "cell_type": "code",
      "source": [
        "#Graph for Trials using differnt hyper parameters\n",
        "\n",
        "import matplotlib.pyplot as plt\n",
        "fig = plt.figure()\n",
        "\n",
        "lstm = []\n",
        "\n",
        "lstm.append('Epochs=3,Batch size=64,optimize=rmsprop')\n",
        "lstm.append('Epochs=3,Batch size=248,learning_rate=0.001')\n",
        "lstm.append('Epochs=4,Batch size=128,learning_rate=0.01')\n",
        "lstm.append('Epochs=3,Batch size=128,learning_rate=0.003')\n",
        "\n",
        "plt.xticks(rotation = 45)\n",
        "\n",
        "plt.title(\"Accuracy using different hyper paramters\")\n",
        "plt.xlabel(\"Trials using differnt hyper parameters\")\n",
        "plt.ylabel(\"accuracy\")\n",
        "\n",
        "plt.plot(lstm,history_lstm,label=\"LSTM model\",marker='o',ms=5)\n"
      ],
      "metadata": {
        "colab": {
          "base_uri": "https://localhost:8080/",
          "height": 719
        },
        "id": "1rR9Jem5xsTz",
        "outputId": "bd664175-ce77-44ad-e0d2-2047f8a034ff"
      },
      "execution_count": 22,
      "outputs": [
        {
          "output_type": "execute_result",
          "data": {
            "text/plain": [
              "[<matplotlib.lines.Line2D at 0x7f2013533e50>]"
            ]
          },
          "metadata": {},
          "execution_count": 22
        },
        {
          "output_type": "display_data",
          "data": {
            "text/plain": [
              "<Figure size 640x480 with 1 Axes>"
            ],
            "image/png": "[encoded data removed]"
          },
          "metadata": {}
        }
      ]
    },
    {
      "cell_type": "code",
      "execution_count": 26,
      "metadata": {
        "colab": {
          "base_uri": "https://localhost:8080/"
        },
        "id": "-CztDm2CFzWZ",
        "outputId": "cad4c71d-ad00-4cb5-d861-b6c3ef84997e"
      },
      "outputs": [
        {
          "output_type": "stream",
          "name": "stdout",
          "text": [
            "Enter your comment : I sometimes hate chatgpt and sometimes love it\n",
            "1/1 [==============================] - 0s 19ms/step\n",
            "The tweet seems to be :  neutral\n"
          ]
        }
      ],
      "source": [
        "#Input a new tweet  predicting using models\n",
        "output_name = ''\n",
        "sample = input(\"Enter your comment : \") \n",
        "tweet=tweet_clean(sample)\n",
        "tweet_row=[tweet]\n",
        "sequence_input=tokenizer.texts_to_sequences(tweet_row)\n",
        "data_input=pad_sequences(sequence_input,maxlen=MAX_SEQUENCE_LENGTH)\n",
        "label_vec = model3_cnn.predict(data_input[0].reshape(1,-1)) #can try different models\n",
        "label_id = np.argmax(label_vec)\n",
        "for name, ID in labels_index.items():\n",
        "  if label_id == ID:\n",
        "   output_name = name\n",
        "   break\n",
        "print(\"The tweet seems to be :  \"+output_name)"
      ]
    },
    {
      "cell_type": "code",
      "source": [],
      "metadata": {
        "id": "7Saiav1fdgOb"
      },
      "execution_count": null,
      "outputs": []
    },
    {
      "cell_type": "code",
      "source": [],
      "metadata": {
        "id": "kSk65W7Zc_JD"
      },
      "execution_count": null,
      "outputs": []
    },
    {
      "cell_type": "code",
      "source": [],
      "metadata": {
        "id": "EHjXQhKTcAj1"
      },
      "execution_count": null,
      "outputs": []
    },
    {
      "cell_type": "code",
      "source": [],
      "metadata": {
        "id": "rnJ7ejuXStKN"
      },
      "execution_count": null,
      "outputs": []
    },
    {
      "cell_type": "code",
      "source": [],
      "metadata": {
        "id": "duNs5rD6jiJQ"
      },
      "execution_count": null,
      "outputs": []
    },
    {
      "cell_type": "code",
      "source": [],
      "metadata": {
        "id": "MZ2z4iYnEeQX"
      },
      "execution_count": null,
      "outputs": []
    },
    {
      "cell_type": "code",
      "source": [],
      "metadata": {
        "id": "YeAHTC4FEbam"
      },
      "execution_count": null,
      "outputs": []
    },
    {
      "cell_type": "code",
      "source": [],
      "metadata": {
        "id": "yoz7oi_91vKs"
      },
      "execution_count": null,
      "outputs": []
    },
    {
      "cell_type": "code",
      "source": [],
      "metadata": {
        "id": "iUcAob-J0Sd1"
      },
      "execution_count": null,
      "outputs": []
    },
    {
      "cell_type": "code",
      "source": [],
      "metadata": {
        "id": "z7eoNfzAz3lX"
      },
      "execution_count": null,
      "outputs": []
    },
    {
      "cell_type": "code",
      "source": [],
      "metadata": {
        "id": "2FI4IAbh8gN3"
      },
      "execution_count": null,
      "outputs": []
    },
    {
      "cell_type": "code",
      "source": [],
      "metadata": {
        "id": "f5XjrMHFb3R1"
      },
      "execution_count": null,
      "outputs": []
    },
    {
      "cell_type": "code",
      "source": [],
      "metadata": {
        "id": "YnDZ_UIkbE8A"
      },
      "execution_count": null,
      "outputs": []
    },
    {
      "cell_type": "code",
      "source": [],
      "metadata": {
        "id": "pfSLggWsbD8i"
      },
      "execution_count": null,
      "outputs": []
    },
    {
      "cell_type": "code",
      "source": [],
      "metadata": {
        "id": "STHqo0SCa5C5"
      },
      "execution_count": null,
      "outputs": []
    },
    {
      "cell_type": "code",
      "source": [],
      "metadata": {
        "id": "Qqs-nQX6a4Fp"
      },
      "execution_count": null,
      "outputs": []
    },
    {
      "cell_type": "code",
      "source": [],
      "metadata": {
        "id": "Z9UsXfDWaX5W"
      },
      "execution_count": null,
      "outputs": []
    },
    {
      "cell_type": "code",
      "source": [],
      "metadata": {
        "id": "CCIT6xSOTe67"
      },
      "execution_count": null,
      "outputs": []
    },
    {
      "cell_type": "code",
      "execution_count": null,
      "metadata": {
        "id": "fAb3YUYrjuan"
      },
      "outputs": [],
      "source": []
    },
    {
      "cell_type": "code",
      "execution_count": null,
      "metadata": {
        "id": "9r5uP63sR5ve"
      },
      "outputs": [],
      "source": []
    },
    {
      "cell_type": "code",
      "execution_count": null,
      "metadata": {
        "id": "Qukgb_goN1bB"
      },
      "outputs": [],
      "source": []
    },
    {
      "cell_type": "code",
      "execution_count": null,
      "metadata": {
        "id": "UeIvAp5fNqH8"
      },
      "outputs": [],
      "source": []
    },
    {
      "cell_type": "code",
      "execution_count": null,
      "metadata": {
        "id": "kyMoOyB8JFGg"
      },
      "outputs": [],
      "source": []
    },
    {
      "cell_type": "code",
      "execution_count": null,
      "metadata": {
        "id": "OZi1NooTItwU"
      },
      "outputs": [],
      "source": []
    },
    {
      "cell_type": "code",
      "execution_count": null,
      "metadata": {
        "id": "mrBOV2xPIoH1"
      },
      "outputs": [],
      "source": []
    },
    {
      "cell_type": "code",
      "execution_count": null,
      "metadata": {
        "id": "h8Yybra5Iits"
      },
      "outputs": [],
      "source": []
    },
    {
      "cell_type": "code",
      "execution_count": null,
      "metadata": {
        "id": "CTQldSHsIgml"
      },
      "outputs": [],
      "source": []
    },
    {
      "cell_type": "code",
      "execution_count": null,
      "metadata": {
        "id": "WHu0I3ruIWA2"
      },
      "outputs": [],
      "source": []
    },
    {
      "cell_type": "code",
      "execution_count": null,
      "metadata": {
        "id": "J4YyOL6gITgY"
      },
      "outputs": [],
      "source": []
    },
    {
      "cell_type": "code",
      "execution_count": null,
      "metadata": {
        "id": "X0Nyv_DWIQBd"
      },
      "outputs": [],
      "source": []
    },
    {
      "cell_type": "code",
      "execution_count": null,
      "metadata": {
        "id": "a1ijV4YxH-1m"
      },
      "outputs": [],
      "source": []
    },
    {
      "cell_type": "code",
      "execution_count": null,
      "metadata": {
        "id": "148z4RfmHXWv"
      },
      "outputs": [],
      "source": []
    },
    {
      "cell_type": "code",
      "execution_count": null,
      "metadata": {
        "id": "9zmnGQ6qDC26"
      },
      "outputs": [],
      "source": []
    },
    {
      "cell_type": "code",
      "execution_count": null,
      "metadata": {
        "id": "cT15sp7OejEJ"
      },
      "outputs": [],
      "source": []
    },
    {
      "cell_type": "code",
      "execution_count": null,
      "metadata": {
        "id": "6FlZRIn7diLJ"
      },
      "outputs": [],
      "source": []
    },
    {
      "cell_type": "code",
      "execution_count": null,
      "metadata": {
        "id": "4bmu4fgXcUf3"
      },
      "outputs": [],
      "source": []
    },
    {
      "cell_type": "code",
      "execution_count": null,
      "metadata": {
        "id": "8X6hlvVgcSa3"
      },
      "outputs": [],
      "source": []
    },
    {
      "cell_type": "code",
      "execution_count": null,
      "metadata": {
        "id": "thsO-AFecNqO"
      },
      "outputs": [],
      "source": []
    },
    {
      "cell_type": "code",
      "execution_count": null,
      "metadata": {
        "id": "B51uzLqQZRLA"
      },
      "outputs": [],
      "source": []
    },
    {
      "cell_type": "code",
      "execution_count": null,
      "metadata": {
        "id": "hbQ47gdfZK3G"
      },
      "outputs": [],
      "source": []
    },
    {
      "cell_type": "code",
      "execution_count": null,
      "metadata": {
        "id": "ML0-jyL8XnFm"
      },
      "outputs": [],
      "source": []
    },
    {
      "cell_type": "code",
      "execution_count": null,
      "metadata": {
        "id": "6t2jzBmZWvsU"
      },
      "outputs": [],
      "source": []
    }
  ],
  "metadata": {
    "colab": {
      "provenance": [],
      "gpuType": "T4"
    },
    "kernelspec": {
      "display_name": "Python 3",
      "name": "python3"
    },
    "language_info": {
      "name": "python"
    },
    "accelerator": "GPU",
    "gpuClass": "standard"
  },
  "nbformat": 4,
  "nbformat_minor": 0
}